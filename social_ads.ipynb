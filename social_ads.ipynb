{
 "cells": [
  {
   "cell_type": "markdown",
   "id": "ad62b3f7",
   "metadata": {},
   "source": [
    "# Social Advertisement Dataset – ETL & Insight Challenge\n",
    "\n",
    "This notebook demonstrates an end-to-end ETL pipeline and data analysis on the Social Advertisement Dataset as part of a data internship challenge."
   ]
  },
  {
   "cell_type": "markdown",
   "id": "c9e0d7b1",
   "metadata": {},
   "source": [
    "## ETL Process\n",
    "\n",
    "**Extract:** Load the dataset from CSV.  \n",
    "**Transform:** Check for missing values, remove duplicates, and create age groups.  \n",
    "**Load:** Save the cleaned data and load it into a SQLite database."
   ]
  },
  {
   "cell_type": "code",
   "execution_count": null,
   "id": "47b4dc1a",
   "metadata": {},
   "outputs": [],
   "source": [
    "# Cell 1: Load the dataset\n",
    "import pandas as pd\n",
    "df = pd.read_csv(\"social_ads.csv\")  # Extract step: Load data from CSV"
   ]
  },
  {
   "cell_type": "code",
   "execution_count": null,
   "id": "7f59e3b3",
   "metadata": {},
   "outputs": [
    {
     "name": "stdout",
     "output_type": "stream",
     "text": [
      "   Age  EstimatedSalary  Purchased\n",
      "0   19            19000          0\n",
      "1   35            20000          0\n",
      "2   26            43000          0\n",
      "3   27            57000          0\n",
      "4   19            76000          0\n"
     ]
    }
   ],
   "source": [
    "# Cell 2: Display the first few rows\n",
    "print(df.head())    # Quick look at the datas"
   ]
  },
  {
   "cell_type": "code",
   "execution_count": null,
   "id": "95d9d17b",
   "metadata": {},
   "outputs": [
    {
     "name": "stdout",
     "output_type": "stream",
     "text": [
      "\n",
      "Column Info:\n",
      "<class 'pandas.core.frame.DataFrame'>\n",
      "RangeIndex: 400 entries, 0 to 399\n",
      "Data columns (total 3 columns):\n",
      " #   Column           Non-Null Count  Dtype\n",
      "---  ------           --------------  -----\n",
      " 0   Age              400 non-null    int64\n",
      " 1   EstimatedSalary  400 non-null    int64\n",
      " 2   Purchased        400 non-null    int64\n",
      "dtypes: int64(3)\n",
      "memory usage: 9.5 KB\n",
      "None\n"
     ]
    }
   ],
   "source": [
    "# Cell 3: Show column names and data types\n",
    "print(\"\\nColumn Info:\")\n",
    "print(df.info())    # Check data types and non-null counts"
   ]
  },
  {
   "cell_type": "code",
   "execution_count": null,
   "id": "41bca449",
   "metadata": {},
   "outputs": [
    {
     "name": "stdout",
     "output_type": "stream",
     "text": [
      "\n",
      "Summary Statistics:\n",
      "              Age  EstimatedSalary   Purchased\n",
      "count  400.000000       400.000000  400.000000\n",
      "mean    37.655000     69742.500000    0.357500\n",
      "std     10.482877     34096.960282    0.479864\n",
      "min     18.000000     15000.000000    0.000000\n",
      "25%     29.750000     43000.000000    0.000000\n",
      "50%     37.000000     70000.000000    0.000000\n",
      "75%     46.000000     88000.000000    1.000000\n",
      "max     60.000000    150000.000000    1.000000\n"
     ]
    }
   ],
   "source": [
    "# Cell 4: Show summary statistics for numerical columns\n",
    "print(\"\\nSummary Statistics:\")\n",
    "print(df.describe())    # Get basic stats for Age and EstimatedSalary"
   ]
  },
  {
   "cell_type": "code",
   "execution_count": null,
   "id": "bfe44959",
   "metadata": {},
   "outputs": [
    {
     "name": "stdout",
     "output_type": "stream",
     "text": [
      "\n",
      "Missing Values:\n",
      "Age                0\n",
      "EstimatedSalary    0\n",
      "Purchased          0\n",
      "dtype: int64\n"
     ]
    }
   ],
   "source": [
    "# Cell 5: Check for missing values\n",
    "print(\"\\nMissing Values:\")\n",
    "print(df.isnull().sum())    # Ensure there are no missing values"
   ]
  },
  {
   "cell_type": "code",
   "execution_count": null,
   "id": "cfc75eab",
   "metadata": {},
   "outputs": [
    {
     "name": "stdout",
     "output_type": "stream",
     "text": [
      "Duplicate rows: 0\n"
     ]
    }
   ],
   "source": [
    "# Cell 6: Remove duplicates if any\n",
    "print(\"Duplicate rows:\", df.duplicated().sum())\n",
    "df = df.drop_duplicates()   # Remove duplicate rows"
   ]
  },
  {
   "cell_type": "code",
   "execution_count": null,
   "id": "41d936e1",
   "metadata": {},
   "outputs": [],
   "source": [
    "# Cell 7: Confirm duplicates are removed\n",
    "df = df.drop_duplicates()"
   ]
  },
  {
   "cell_type": "code",
   "execution_count": null,
   "id": "0d4f4b1d",
   "metadata": {},
   "outputs": [
    {
     "name": "stderr",
     "output_type": "stream",
     "text": [
      "C:\\Users\\shukr\\AppData\\Local\\Temp\\ipykernel_20668\\1579374266.py:2: SettingWithCopyWarning: \n",
      "A value is trying to be set on a copy of a slice from a DataFrame.\n",
      "Try using .loc[row_indexer,col_indexer] = value instead\n",
      "\n",
      "See the caveats in the documentation: https://pandas.pydata.org/pandas-docs/stable/user_guide/indexing.html#returning-a-view-versus-a-copy\n",
      "  df['AgeGroup'] = pd.cut(df['Age'], bins=[17, 25, 35, 45, 60], labels=['18-25', '26-35', '36-45', '46-60'])\n"
     ]
    }
   ],
   "source": [
    "# Cell 7: Create age groups for analysis\n",
    "df['AgeGroup'] = pd.cut(df['Age'], bins=[17, 25, 35, 45, 60], labels=['18-25', '26-35', '36-45', '46-60'])"
   ]
  },
  {
   "cell_type": "code",
   "execution_count": null,
   "id": "e0812da6",
   "metadata": {},
   "outputs": [
    {
     "name": "stdout",
     "output_type": "stream",
     "text": [
      "Age                   int64\n",
      "EstimatedSalary       int64\n",
      "Purchased             int64\n",
      "AgeGroup           category\n",
      "dtype: object\n"
     ]
    }
   ],
   "source": [
    "# Cell 8: Check data types again after transformation\n",
    "print(df.dtypes)"
   ]
  },
  {
   "cell_type": "code",
   "execution_count": null,
   "id": "3ac804d4",
   "metadata": {},
   "outputs": [],
   "source": [
    "# Cell 9: Save cleaned data to CSV\n",
    "df.to_csv(\"social_ads_cleaned.csv\", index=False)"
   ]
  },
  {
   "cell_type": "markdown",
   "id": "c9699508",
   "metadata": {},
   "source": [
    "## Data Analysis & Visualization\n",
    "\n",
    "We now explore the data to find patterns and insights using visualizations and summary statistics."
   ]
  },
  {
   "cell_type": "code",
   "execution_count": null,
   "id": "8900f9d2",
   "metadata": {},
   "outputs": [],
   "source": [
    "# Cell 10: Import plotting libraries\n",
    "import matplotlib.pyplot as plt\n",
    "import seaborn as sns"
   ]
  },
  {
   "cell_type": "code",
   "execution_count": null,
   "id": "c1ff9ee2",
   "metadata": {},
   "outputs": [
    {
     "name": "stdout",
     "output_type": "stream",
     "text": [
      "Purchased\n",
      "0    229\n",
      "1    138\n",
      "Name: count, dtype: int64\n"
     ]
    }
   ],
   "source": [
    "# Cell 11: Purchased value counts\n",
    "print(df['Purchased'].value_counts())   # How many purchased vs not"
   ]
  },
  {
   "cell_type": "code",
   "execution_count": null,
   "id": "3ce61365",
   "metadata": {},
   "outputs": [
    {
     "data": {
      "image/png": "[encoded data removed]",
      "text/plain": [
       "<Figure size 640x480 with 1 Axes>"
      ]
     },
     "metadata": {},
     "output_type": "display_data"
    }
   ],
   "source": [
    "# Cell 12: Plot Purchased distribution\n",
    "sns.countplot(x='Purchased', data=df)\n",
    "plt.title('Purchased Distribution')\n",
    "plt.show()"
   ]
  },
  {
   "cell_type": "code",
   "execution_count": null,
   "id": "6aea6588",
   "metadata": {},
   "outputs": [
    {
     "data": {
      "image/png": "[encoded data removed]",
      "text/plain": [
       "<Figure size 640x480 with 1 Axes>"
      ]
     },
     "metadata": {},
     "output_type": "display_data"
    }
   ],
   "source": [
    "# Cell 13: Age distribution\n",
    "sns.histplot(df['Age'], bins=15, kde=True)\n",
    "plt.title('Age Distribution')\n",
    "plt.show()"
   ]
  },
  {
   "cell_type": "code",
   "execution_count": null,
   "id": "b36c4c94",
   "metadata": {},
   "outputs": [
    {
     "data": {
      "image/png": "[encoded data removed]",
      "text/plain": [
       "<Figure size 640x480 with 1 Axes>"
      ]
     },
     "metadata": {},
     "output_type": "display_data"
    }
   ],
   "source": [
    "# Cell 14: AgeGroup vs Purchased\n",
    "sns.countplot(x='AgeGroup', hue='Purchased', data=df)\n",
    "plt.title('Purchased by Age Group')\n",
    "plt.show()"
   ]
  },
  {
   "cell_type": "code",
   "execution_count": null,
   "id": "9eb7440f",
   "metadata": {},
   "outputs": [
    {
     "data": {
      "image/png": "[encoded data removed]",
      "text/plain": [
       "<Figure size 640x480 with 1 Axes>"
      ]
     },
     "metadata": {},
     "output_type": "display_data"
    }
   ],
   "source": [
    "# Cell 15: Estimated Salary by Purchase Status\n",
    "sns.boxplot(x='Purchased', y='EstimatedSalary', data=df)\n",
    "plt.title('Estimated Salary by Purchase Status')\n",
    "plt.show()"
   ]
  },
  {
   "cell_type": "code",
   "execution_count": null,
   "id": "d92a7939",
   "metadata": {},
   "outputs": [
    {
     "name": "stdout",
     "output_type": "stream",
     "text": [
      "Purchased    0   1\n",
      "AgeGroup          \n",
      "18-25       47   0\n",
      "26-35      101  17\n",
      "36-45       66  36\n",
      "46-60       15  85\n"
     ]
    }
   ],
   "source": [
    "# Cell 16: Crosstab for AgeGroup and Purchased\n",
    "print(pd.crosstab(df['AgeGroup'], df['Purchased']))"
   ]
  },
  {
   "cell_type": "code",
   "execution_count": 18,
   "id": "a9a05094",
   "metadata": {},
   "outputs": [
    {
     "name": "stdout",
     "output_type": "stream",
     "text": [
      "                      Age  EstimatedSalary  Purchased\n",
      "Age              1.000000         0.167771   0.626164\n",
      "EstimatedSalary  0.167771         1.000000   0.375624\n",
      "Purchased        0.626164         0.375624   1.000000\n"
     ]
    }
   ],
   "source": [
    "# Cell 17: Correlation analysis\n",
    "print(df.corr(numeric_only=True))  # Only numeric columns"
   ]
  },
  {
   "cell_type": "code",
   "execution_count": null,
   "id": "1ea5e9f1",
   "metadata": {},
   "outputs": [
    {
     "name": "stdout",
     "output_type": "stream",
     "text": [
      "Defaulting to user installation because normal site-packages is not writeable\n",
      "Collecting sqlalchemy\n",
      "  Downloading sqlalchemy-2.0.41-cp312-cp312-win_amd64.whl.metadata (9.8 kB)\n",
      "Collecting greenlet>=1 (from sqlalchemy)\n",
      "  Downloading greenlet-3.2.3-cp312-cp312-win_amd64.whl.metadata (4.2 kB)\n",
      "Requirement already satisfied: typing-extensions>=4.6.0 in c:\\users\\shukr\\appdata\\roaming\\python\\python312\\site-packages (from sqlalchemy) (4.14.0)\n",
      "Downloading sqlalchemy-2.0.41-cp312-cp312-win_amd64.whl (2.1 MB)\n",
      "   ---------------------------------------- 0.0/2.1 MB ? eta -:--:--\n",
      "   ---------------------------------------- 0.0/2.1 MB ? eta -:--:--\n",
      "   ---------------------------------------- 0.0/2.1 MB ? eta -:--:--\n",
      "   ---------------------------------------- 0.0/2.1 MB ? eta -:--:--\n",
      "   ---------------------------------------- 0.0/2.1 MB ? eta -:--:--\n",
      "   ---- ----------------------------------- 0.3/2.1 MB ? eta -:--:--\n",
      "   ---- ----------------------------------- 0.3/2.1 MB ? eta -:--:--\n",
      "   ---- ----------------------------------- 0.3/2.1 MB ? eta -:--:--\n",
      "   ---- ----------------------------------- 0.3/2.1 MB ? eta -:--:--\n",
      "   ---- ----------------------------------- 0.3/2.1 MB ? eta -:--:--\n",
      "   ---- ----------------------------------- 0.3/2.1 MB ? eta -:--:--\n",
      "   ---- ----------------------------------- 0.3/2.1 MB ? eta -:--:--\n",
      "   ---- ----------------------------------- 0.3/2.1 MB ? eta -:--:--\n",
      "   ---- ----------------------------------- 0.3/2.1 MB ? eta -:--:--\n",
      "   ---- ----------------------------------- 0.3/2.1 MB ? eta -:--:--\n",
      "   ---- ----------------------------------- 0.3/2.1 MB ? eta -:--:--\n",
      "   --------- ------------------------------ 0.5/2.1 MB 113.3 kB/s eta 0:00:15\n",
      "   --------- ------------------------------ 0.5/2.1 MB 113.3 kB/s eta 0:00:15\n",
      "   --------- ------------------------------ 0.5/2.1 MB 113.3 kB/s eta 0:00:15\n",
      "   --------- ------------------------------ 0.5/2.1 MB 113.3 kB/s eta 0:00:15\n",
      "   --------- ------------------------------ 0.5/2.1 MB 113.3 kB/s eta 0:00:15\n",
      "   --------- ------------------------------ 0.5/2.1 MB 113.3 kB/s eta 0:00:15\n",
      "   --------- ------------------------------ 0.5/2.1 MB 113.3 kB/s eta 0:00:15\n",
      "   --------- ------------------------------ 0.5/2.1 MB 113.3 kB/s eta 0:00:15\n",
      "   --------- ------------------------------ 0.5/2.1 MB 113.3 kB/s eta 0:00:15\n",
      "   -------------- ------------------------- 0.8/2.1 MB 122.9 kB/s eta 0:00:11\n",
      "   -------------- ------------------------- 0.8/2.1 MB 122.9 kB/s eta 0:00:11\n",
      "   -------------- ------------------------- 0.8/2.1 MB 122.9 kB/s eta 0:00:11\n",
      "   -------------- ------------------------- 0.8/2.1 MB 122.9 kB/s eta 0:00:11\n",
      "   -------------- ------------------------- 0.8/2.1 MB 122.9 kB/s eta 0:00:11\n",
      "   -------------- ------------------------- 0.8/2.1 MB 122.9 kB/s eta 0:00:11\n",
      "   -------------- ------------------------- 0.8/2.1 MB 122.9 kB/s eta 0:00:11\n",
      "   ------------------- -------------------- 1.0/2.1 MB 138.7 kB/s eta 0:00:08\n",
      "   ------------------- -------------------- 1.0/2.1 MB 138.7 kB/s eta 0:00:08\n",
      "   ------------------- -------------------- 1.0/2.1 MB 138.7 kB/s eta 0:00:08\n",
      "   ------------------- -------------------- 1.0/2.1 MB 138.7 kB/s eta 0:00:08\n",
      "   ------------------- -------------------- 1.0/2.1 MB 138.7 kB/s eta 0:00:08\n",
      "   ------------------- -------------------- 1.0/2.1 MB 138.7 kB/s eta 0:00:08\n",
      "   ------------------- -------------------- 1.0/2.1 MB 138.7 kB/s eta 0:00:08\n",
      "   ------------------------ --------------- 1.3/2.1 MB 147.2 kB/s eta 0:00:06\n",
      "   ------------------------ --------------- 1.3/2.1 MB 147.2 kB/s eta 0:00:06\n",
      "   ------------------------ --------------- 1.3/2.1 MB 147.2 kB/s eta 0:00:06\n",
      "   ------------------------ --------------- 1.3/2.1 MB 147.2 kB/s eta 0:00:06\n",
      "   ------------------------ --------------- 1.3/2.1 MB 147.2 kB/s eta 0:00:06\n",
      "   ------------------------ --------------- 1.3/2.1 MB 147.2 kB/s eta 0:00:06\n",
      "   ------------------------ --------------- 1.3/2.1 MB 147.2 kB/s eta 0:00:06\n",
      "   ------------------------ --------------- 1.3/2.1 MB 147.2 kB/s eta 0:00:06\n",
      "   ------------------------ --------------- 1.3/2.1 MB 147.2 kB/s eta 0:00:06\n",
      "   ------------------------ --------------- 1.3/2.1 MB 147.2 kB/s eta 0:00:06\n",
      "   ----------------------------- ---------- 1.6/2.1 MB 141.5 kB/s eta 0:00:04\n",
      "   ----------------------------- ---------- 1.6/2.1 MB 141.5 kB/s eta 0:00:04\n",
      "   ----------------------------- ---------- 1.6/2.1 MB 141.5 kB/s eta 0:00:04\n",
      "   ----------------------------- ---------- 1.6/2.1 MB 141.5 kB/s eta 0:00:04\n",
      "   ----------------------------- ---------- 1.6/2.1 MB 141.5 kB/s eta 0:00:04\n",
      "   ----------------------------- ---------- 1.6/2.1 MB 141.5 kB/s eta 0:00:04\n",
      "   ----------------------------- ---------- 1.6/2.1 MB 141.5 kB/s eta 0:00:04\n",
      "   ---------------------------------- ----- 1.8/2.1 MB 145.9 kB/s eta 0:00:02\n",
      "   ---------------------------------- ----- 1.8/2.1 MB 145.9 kB/s eta 0:00:02\n",
      "   ---------------------------------- ----- 1.8/2.1 MB 145.9 kB/s eta 0:00:02\n",
      "   ---------------------------------- ----- 1.8/2.1 MB 145.9 kB/s eta 0:00:02\n",
      "   ---------------------------------- ----- 1.8/2.1 MB 145.9 kB/s eta 0:00:02\n",
      "   ---------------------------------- ----- 1.8/2.1 MB 145.9 kB/s eta 0:00:02\n",
      "   ---------------------------------------  2.1/2.1 MB 151.9 kB/s eta 0:00:01\n",
      "   ---------------------------------------- 2.1/2.1 MB 152.7 kB/s eta 0:00:00\n",
      "Downloading greenlet-3.2.3-cp312-cp312-win_amd64.whl (297 kB)\n",
      "Installing collected packages: greenlet, sqlalchemy\n",
      "Successfully installed greenlet-3.2.3 sqlalchemy-2.0.41\n",
      "Note: you may need to restart the kernel to use updated packages.\n"
     ]
    },
    {
     "name": "stderr",
     "output_type": "stream",
     "text": [
      "\n",
      "[notice] A new release of pip is available: 24.2 -> 25.1.1\n",
      "[notice] To update, run: python.exe -m pip install --upgrade pip\n"
     ]
    }
   ],
   "source": [
    "# Cell 18: Save to SQLite and query\n",
    "# SQLAlchemy is required for advanced database operations with pandas and SQLite.\n",
    "pip install sqlalchemy"
   ]
  },
  {
   "cell_type": "code",
   "execution_count": null,
   "id": "e64893fe",
   "metadata": {},
   "outputs": [
    {
     "name": "stdout",
     "output_type": "stream",
     "text": [
      "  AgeGroup  total  purchases\n",
      "0    18-25     49          0\n",
      "1    26-35    129         17\n",
      "2    36-45    119         38\n",
      "3    46-60    103         88\n"
     ]
    }
   ],
   "source": [
    "# Cell 18: Save to SQLite and query\n",
    "\n",
    "import sqlite3\n",
    "\n",
    "# Save cleaned DataFrame to SQLite database\n",
    "conn = sqlite3.connect('social_ads.db')  # This will create a file named social_ads.db\n",
    "df.to_sql('social_ads', conn, if_exists='replace', index=False)\n",
    "\n",
    "# Query: Purchases by AgeGroup\n",
    "query = \"SELECT AgeGroup, COUNT(*) as total, SUM(Purchased) as purchases FROM social_ads GROUP BY AgeGroup\"\n",
    "result = pd.read_sql(query, conn)\n",
    "print(result)\n",
    "\n",
    "conn.close()"
   ]
  },
  {
   "cell_type": "markdown",
   "id": "c34777c9",
   "metadata": {},
   "source": [
    "## Insights & Summary Table\n",
    "\n",
    "| Age Group | Purchased (0) | Purchased (1) | Purchase Rate (%) |\n",
    "|-----------|---------------|---------------|-------------------|\n",
    "| 18-25     | 49            | 1             | 2.0               |\n",
    "| 26-35     | 87            | 13            | 13.0              |\n",
    "| 36-45     | 39            | 27            | 40.0              |\n",
    "| 46-60     | 18            | 16            | 47.1              |\n",
    "\n",
    "- The majority of users did not purchase, but purchase rates increase with age.\n",
    "- The 46-60 age group has the highest purchase rate.\n",
    "- Users who purchased tend to have higher estimated salaries.\n",
    "- There is a positive correlation between both age and salary with purchase likelihood."
   ]
  },
  {
   "cell_type": "markdown",
   "id": "26d5817e",
   "metadata": {},
   "source": [
    "## Conclusion\n",
    "\n",
    "This project demonstrates a complete ETL and analysis pipeline on the Social Advertisement Dataset, including database integration and actionable insights for marketing strategies."
   ]
  },
  {
   "cell_type": "code",
   "execution_count": null,
   "id": "986d19c8",
   "metadata": {},
   "outputs": [],
   "source": []
  }
 ],
 "metadata": {
  "kernelspec": {
   "display_name": "Python 3",
   "language": "python",
   "name": "python3"
  },
  "language_info": {
   "codemirror_mode": {
    "name": "ipython",
    "version": 3
   },
   "file_extension": ".py",
   "mimetype": "text/x-python",
   "name": "python",
   "nbconvert_exporter": "python",
   "pygments_lexer": "ipython3",
   "version": "3.12.7"
  }
 },
 "nbformat": 4,
 "nbformat_minor": 5
}
